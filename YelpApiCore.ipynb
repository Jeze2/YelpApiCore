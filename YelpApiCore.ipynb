{
 "cells": [
  {
   "cell_type": "code",
   "execution_count": 1,
   "id": "c1be083d",
   "metadata": {},
   "outputs": [],
   "source": [
    "# Standard Imports\n",
    "import numpy as np\n",
    "import pandas as pd\n",
    "import matplotlib.pyplot as plt\n",
    "import seaborn as sns\n",
    "# Additional Imports\n",
    "import os, json, math, time\n",
    "from yelpapi import YelpAPI\n",
    "from tqdm.notebook import tqdm_notebook\n",
    "\n"
   ]
  },
  {
   "cell_type": "code",
   "execution_count": 2,
   "id": "0023357f",
   "metadata": {},
   "outputs": [],
   "source": [
    "# Load API Credentials\n",
    "with open('/Users/jezep/.secret/yelp_api.json') as f:   #use your path here!\n",
    "    login = json.load(f)\n",
    "# Instantiate YelpAPI Variable\n",
    "yelp_api = YelpAPI(login['api-key'], timeout_s=5.0)\n",
    "\n"
   ]
  },
  {
   "cell_type": "code",
   "execution_count": 36,
   "id": "b20e21a5",
   "metadata": {},
   "outputs": [],
   "source": [
    "LOCATION = 'Chicago, IL'\n",
    "TERM = 'pizza'\n"
   ]
  },
  {
   "cell_type": "code",
   "execution_count": 37,
   "id": "b3567fb8",
   "metadata": {},
   "outputs": [
    {
     "data": {
      "text/plain": [
       "'Data/results_in_progress_IL_pizza.json'"
      ]
     },
     "execution_count": 37,
     "metadata": {},
     "output_type": "execute_result"
    }
   ],
   "source": [
    "# Specifying JSON_FILE filename (can include a folder)\n",
    "# include the search terms in the filename\n",
    "JSON_FILE = \"Data/results_in_progress_IL_pizza.json\"\n",
    "JSON_FILE\n",
    "\n"
   ]
  },
  {
   "cell_type": "code",
   "execution_count": 38,
   "id": "851638b8",
   "metadata": {},
   "outputs": [
    {
     "name": "stdout",
     "output_type": "stream",
     "text": [
      "[i] Data/results_in_progress_IL_pizza.json not found. Saving empty list to file.\n"
     ]
    }
   ],
   "source": [
    "## Check if JSON_FILE exists\n",
    "file_exists = os.path.isfile(JSON_FILE)\n",
    "## If it does not exist: \n",
    "if file_exists == False:\n",
    "    \n",
    "    ## CREATE ANY NEEDED FOLDERS\n",
    "    # Get the Folder Name only\n",
    "    folder = os.path.dirname(JSON_FILE)\n",
    "    ## If JSON_FILE included a folder:\n",
    "    if len(folder)>0:\n",
    "        # create the folder\n",
    "        os.makedirs(folder,exist_ok=True)\n",
    "        \n",
    "        \n",
    "    ## INFORM USER AND SAVE EMPTY LIST\n",
    "    print(f'[i] {JSON_FILE} not found. Saving empty list to file.')\n",
    "    \n",
    "    \n",
    "    # save an empty list\n",
    "    with open(JSON_FILE,'w') as f:\n",
    "        json.dump([],f)  \n",
    "# If it exists, inform user\n",
    "else:\n",
    "    print(f\"[i] {JSON_FILE} already exists.\")\n"
   ]
  },
  {
   "cell_type": "code",
   "execution_count": 39,
   "id": "b42d0f89",
   "metadata": {},
   "outputs": [
    {
     "name": "stdout",
     "output_type": "stream",
     "text": [
      "- 0 previous results found.\n"
     ]
    }
   ],
   "source": [
    "## Load previous results and use len of results for offset\n",
    "with open(JSON_FILE,'r') as f:\n",
    "    previous_results = json.load(f)\n",
    "    \n",
    "## set offset based on previous results\n",
    "n_results = len(previous_results)\n",
    "print(f'- {n_results} previous results found.')\n",
    "\n"
   ]
  },
  {
   "cell_type": "code",
   "execution_count": 40,
   "id": "6d658943",
   "metadata": {},
   "outputs": [
    {
     "data": {
      "text/plain": [
       "dict_keys(['businesses', 'total', 'region'])"
      ]
     },
     "execution_count": 40,
     "metadata": {},
     "output_type": "execute_result"
    }
   ],
   "source": [
    "# use our yelp_api variable's search_query method to perform our API call\n",
    "results = yelp_api.search_query(location=LOCATION,\n",
    "                                term=TERM,\n",
    "                               offset=n_results)\n",
    "results.keys()\n",
    "\n"
   ]
  },
  {
   "cell_type": "code",
   "execution_count": 41,
   "id": "a5822916",
   "metadata": {},
   "outputs": [
    {
     "data": {
      "text/plain": [
       "5300"
      ]
     },
     "execution_count": 41,
     "metadata": {},
     "output_type": "execute_result"
    }
   ],
   "source": [
    "## How many results total?\n",
    "total_results = results['total']\n",
    "total_results\n",
    "\n"
   ]
  },
  {
   "cell_type": "code",
   "execution_count": 42,
   "id": "debafcf8",
   "metadata": {},
   "outputs": [
    {
     "data": {
      "text/plain": [
       "20"
      ]
     },
     "execution_count": 42,
     "metadata": {},
     "output_type": "execute_result"
    }
   ],
   "source": [
    "## How many did we get the details for?\n",
    "results_per_page = len(results['businesses'])\n",
    "results_per_page\n",
    "\n"
   ]
  },
  {
   "cell_type": "code",
   "execution_count": 10,
   "id": "4091db55",
   "metadata": {},
   "outputs": [
    {
     "data": {
      "text/plain": [
       "590"
      ]
     },
     "execution_count": 10,
     "metadata": {},
     "output_type": "execute_result"
    }
   ],
   "source": [
    "# Import additional packages for controlling our loop\n",
    "import time, math\n",
    "# Use math.ceil to round up for the total number of pages of results.\n",
    "n_pages = math.ceil((results['total']-n_results)/ results_per_page)\n",
    "n_pages\n",
    "\n"
   ]
  },
  {
   "cell_type": "code",
   "execution_count": 43,
   "id": "b2a30f91",
   "metadata": {},
   "outputs": [],
   "source": [
    "# join new results with old list with extend and save to file\n",
    "previous_results.extend(results['businesses'])  \n",
    "with open(JSON_FILE,'w') as f:\n",
    "     json.dump(previous_results,f)\n"
   ]
  },
  {
   "cell_type": "code",
   "execution_count": 44,
   "id": "8983b4a2",
   "metadata": {},
   "outputs": [
    {
     "data": {
      "application/vnd.jupyter.widget-view+json": {
       "model_id": "ecc087e012364aeda429290668f714c3",
       "version_major": 2,
       "version_minor": 0
      },
      "text/plain": [
       "  0%|          | 0/560 [00:00<?, ?it/s]"
      ]
     },
     "metadata": {},
     "output_type": "display_data"
    }
   ],
   "source": [
    "from tqdm.notebook import tqdm_notebook\n",
    "import time\n",
    "for i in tqdm_notebook(range(n_pages)):\n",
    "    # adds 200 ms pause\n",
    "    time.sleep(.2) \n"
   ]
  },
  {
   "cell_type": "code",
   "execution_count": 45,
   "id": "f192538d",
   "metadata": {},
   "outputs": [
    {
     "data": {
      "application/vnd.jupyter.widget-view+json": {
       "model_id": "b66a10e2a43d43b29e36f4145b9432a9",
       "version_major": 2,
       "version_minor": 0
      },
      "text/plain": [
       "  0%|          | 0/560 [00:00<?, ?it/s]"
      ]
     },
     "metadata": {},
     "output_type": "display_data"
    },
    {
     "ename": "YelpAPIError",
     "evalue": "VALIDATION_ERROR: Too many results requested, limit+offset must be <= 1000.",
     "output_type": "error",
     "traceback": [
      "\u001b[1;31m---------------------------------------------------------------------------\u001b[0m",
      "\u001b[1;31mYelpAPIError\u001b[0m                              Traceback (most recent call last)",
      "Cell \u001b[1;32mIn[45], line 9\u001b[0m\n\u001b[0;32m      7\u001b[0m n_results \u001b[38;5;241m=\u001b[39m \u001b[38;5;28mlen\u001b[39m(previous_results)\n\u001b[0;32m      8\u001b[0m \u001b[38;5;66;03m## use n_results as the OFFSET \u001b[39;00m\n\u001b[1;32m----> 9\u001b[0m results \u001b[38;5;241m=\u001b[39m yelp_api\u001b[38;5;241m.\u001b[39msearch_query(location\u001b[38;5;241m=\u001b[39mLOCATION,\n\u001b[0;32m     10\u001b[0m                                 term\u001b[38;5;241m=\u001b[39mTERM, \n\u001b[0;32m     11\u001b[0m                                 offset\u001b[38;5;241m=\u001b[39mn_results)\n\u001b[0;32m     13\u001b[0m \u001b[38;5;66;03m## append new results and save to file\u001b[39;00m\n\u001b[0;32m     14\u001b[0m previous_results\u001b[38;5;241m.\u001b[39mextend(results[\u001b[38;5;124m'\u001b[39m\u001b[38;5;124mbusinesses\u001b[39m\u001b[38;5;124m'\u001b[39m])\n",
      "File \u001b[1;32m~\\anaconda3\\Lib\\site-packages\\yelpapi\\yelpapi.py:251\u001b[0m, in \u001b[0;36mYelpAPI.search_query\u001b[1;34m(self, **kwargs)\u001b[0m\n\u001b[0;32m    247\u001b[0m \u001b[38;5;28;01mif\u001b[39;00m \u001b[38;5;129;01mnot\u001b[39;00m kwargs\u001b[38;5;241m.\u001b[39mget(\u001b[38;5;124m'\u001b[39m\u001b[38;5;124mlocation\u001b[39m\u001b[38;5;124m'\u001b[39m) \u001b[38;5;129;01mand\u001b[39;00m (\u001b[38;5;129;01mnot\u001b[39;00m kwargs\u001b[38;5;241m.\u001b[39mget(\u001b[38;5;124m'\u001b[39m\u001b[38;5;124mlatitude\u001b[39m\u001b[38;5;124m'\u001b[39m) \u001b[38;5;129;01mor\u001b[39;00m \u001b[38;5;129;01mnot\u001b[39;00m kwargs\u001b[38;5;241m.\u001b[39mget(\u001b[38;5;124m'\u001b[39m\u001b[38;5;124mlongitude\u001b[39m\u001b[38;5;124m'\u001b[39m)):\n\u001b[0;32m    248\u001b[0m     \u001b[38;5;28;01mraise\u001b[39;00m \u001b[38;5;167;01mValueError\u001b[39;00m(\u001b[38;5;124m'\u001b[39m\u001b[38;5;124mA valid location (parameter \u001b[39m\u001b[38;5;124m\"\u001b[39m\u001b[38;5;124mlocation\u001b[39m\u001b[38;5;124m\"\u001b[39m\u001b[38;5;124m) or latitude/longitude combination \u001b[39m\u001b[38;5;124m'\u001b[39m\n\u001b[0;32m    249\u001b[0m                      \u001b[38;5;124m'\u001b[39m\u001b[38;5;124m(parameters \u001b[39m\u001b[38;5;124m\"\u001b[39m\u001b[38;5;124mlatitude\u001b[39m\u001b[38;5;124m\"\u001b[39m\u001b[38;5;124m and \u001b[39m\u001b[38;5;124m\"\u001b[39m\u001b[38;5;124mlongitude\u001b[39m\u001b[38;5;124m\"\u001b[39m\u001b[38;5;124m) must be provided.\u001b[39m\u001b[38;5;124m'\u001b[39m)\n\u001b[1;32m--> 251\u001b[0m \u001b[38;5;28;01mreturn\u001b[39;00m \u001b[38;5;28mself\u001b[39m\u001b[38;5;241m.\u001b[39m_query(SEARCH_API_URL, \u001b[38;5;241m*\u001b[39m\u001b[38;5;241m*\u001b[39mkwargs)\n",
      "File \u001b[1;32m~\\anaconda3\\Lib\\site-packages\\yelpapi\\yelpapi.py:299\u001b[0m, in \u001b[0;36mYelpAPI._query\u001b[1;34m(self, url, **kwargs)\u001b[0m\n\u001b[0;32m    295\u001b[0m \u001b[38;5;66;03m# Yelp can return one of many different API errors, so check for one of them.\u001b[39;00m\n\u001b[0;32m    296\u001b[0m \u001b[38;5;66;03m# The Yelp Fusion API does not yet have a complete list of errors, but this is on the TODO list; see\u001b[39;00m\n\u001b[0;32m    297\u001b[0m \u001b[38;5;66;03m# https://github.com/Yelp/yelp-fusion/issues/95 for more info.\u001b[39;00m\n\u001b[0;32m    298\u001b[0m \u001b[38;5;28;01mif\u001b[39;00m \u001b[38;5;124m'\u001b[39m\u001b[38;5;124merror\u001b[39m\u001b[38;5;124m'\u001b[39m \u001b[38;5;129;01min\u001b[39;00m response_json:\n\u001b[1;32m--> 299\u001b[0m     \u001b[38;5;28;01mraise\u001b[39;00m YelpAPI\u001b[38;5;241m.\u001b[39mYelpAPIError(\u001b[38;5;124m'\u001b[39m\u001b[38;5;132;01m{}\u001b[39;00m\u001b[38;5;124m: \u001b[39m\u001b[38;5;132;01m{}\u001b[39;00m\u001b[38;5;124m'\u001b[39m\u001b[38;5;241m.\u001b[39mformat(response_json[\u001b[38;5;124m'\u001b[39m\u001b[38;5;124merror\u001b[39m\u001b[38;5;124m'\u001b[39m][\u001b[38;5;124m'\u001b[39m\u001b[38;5;124mcode\u001b[39m\u001b[38;5;124m'\u001b[39m],\n\u001b[0;32m    300\u001b[0m                                                response_json[\u001b[38;5;124m'\u001b[39m\u001b[38;5;124merror\u001b[39m\u001b[38;5;124m'\u001b[39m][\u001b[38;5;124m'\u001b[39m\u001b[38;5;124mdescription\u001b[39m\u001b[38;5;124m'\u001b[39m]))\n\u001b[0;32m    302\u001b[0m \u001b[38;5;66;03m# we got a good response, so return\u001b[39;00m\n\u001b[0;32m    303\u001b[0m \u001b[38;5;28;01mreturn\u001b[39;00m response_json\n",
      "\u001b[1;31mYelpAPIError\u001b[0m: VALIDATION_ERROR: Too many results requested, limit+offset must be <= 1000."
     ]
    }
   ],
   "source": [
    "for i in tqdm_notebook( range(1,n_pages+1)):\n",
    "    \n",
    "    ## Read in results in progress file and check the length\n",
    "    with open(JSON_FILE, 'r') as f:\n",
    "        previous_results = json.load(f)\n",
    "    ## save number of results for to use as offset\n",
    "    n_results = len(previous_results)\n",
    "    ## use n_results as the OFFSET \n",
    "    results = yelp_api.search_query(location=LOCATION,\n",
    "                                    term=TERM, \n",
    "                                    offset=n_results)\n",
    "    \n",
    "    ## append new results and save to file\n",
    "    previous_results.extend(results['businesses'])\n",
    "    \n",
    "    with open(JSON_FILE,'w') as f:\n",
    "        json.dump(previous_results,f)\n",
    "    \n",
    "    # add a 200ms pause\n",
    "    time.sleep(.2)\n",
    "\n"
   ]
  },
  {
   "cell_type": "code",
   "execution_count": 46,
   "id": "b223242c",
   "metadata": {},
   "outputs": [
    {
     "data": {
      "text/plain": [
       "False"
      ]
     },
     "execution_count": 46,
     "metadata": {},
     "output_type": "execute_result"
    }
   ],
   "source": [
    "## delete file and confirm it no longer exits.\n",
    "os.remove(JSON_FILE)\n",
    "os.path.isfile(JSON_FILE)\n",
    "\n"
   ]
  },
  {
   "cell_type": "code",
   "execution_count": 47,
   "id": "6f3d6caa",
   "metadata": {},
   "outputs": [],
   "source": [
    "import os\n",
    "\n",
    "def create_json_file(JSON_FILE, delete_if_exists=False):\n",
    "\n",
    "    # Check if JSON_FILE exists\n",
    "    file_exists = os.path.isfile(JSON_FILE)\n",
    "\n",
    "    # If it DOES exist:\n",
    "    if file_exists == True:\n",
    "\n",
    "        # Check if user wants to delete if exists\n",
    "        if delete_if_exists==True:\n",
    "\n",
    "            print(f\"[!] {JSON_FILE} already exists. Deleting previous file...\")\n",
    "            \n",
    "            # delete file and confirm it no longer exits.\n",
    "            os.remove(JSON_FILE)\n",
    "            \n",
    "            # Recursive call to function after old file deleted\n",
    "            create_json_file(JSON_FILE, delete_if_exists=False)\n",
    "            \n",
    "        else:\n",
    "            print(f\"[i] {JSON_FILE} already exists.\")       \n",
    "            \n",
    "            \n",
    "    ## If it does NOT exist:\n",
    "    else:\n",
    "        \n",
    "        ## INFORM USER AND SAVE EMPTY LIST\n",
    "        print(f\"[i] {JSON_FILE} not found. Saving empty list to new file.\")\n",
    "        \n",
    "        ## CREATE ANY NEEDED FOLDERS\n",
    "        # Get the Folder Name only\n",
    "        folder = os.path.dirname(JSON_FILE)\n",
    "        \n",
    "        ## If JSON_FILE included a folder:\n",
    "        if len(folder)>0:\n",
    "            # create the folder\n",
    "            os.makedirs(folder,exist_ok=True)\n",
    "        ## Save empty list to start the json file\n",
    "        with open(JSON_FILE,'w') as f:\n",
    "            json.dump([],f)  \n",
    "\n"
   ]
  },
  {
   "cell_type": "code",
   "execution_count": 48,
   "id": "fffb821b",
   "metadata": {},
   "outputs": [
    {
     "name": "stdout",
     "output_type": "stream",
     "text": [
      "[i] Data/results_in_progress_IL_pizza.json not found. Saving empty list to new file.\n",
      "- 0 previous results found.\n"
     ]
    },
    {
     "data": {
      "text/plain": [
       "265"
      ]
     },
     "execution_count": 48,
     "metadata": {},
     "output_type": "execute_result"
    }
   ],
   "source": [
    "## Create a new empty json file (exist the previous if it exists)\n",
    "create_json_file(JSON_FILE, delete_if_exists=True)\n",
    "## Load previous results and use len of results for offset\n",
    "with open(JSON_FILE,'r') as f:\n",
    "    previous_results = json.load(f)\n",
    "    \n",
    "## set offset based on previous results\n",
    "n_results = len(previous_results)\n",
    "print(f'- {n_results} previous results found.')\n",
    "# use our yelp_api variable's search_query method to perform our API call\n",
    "results = yelp_api.search_query(location=LOCATION,\n",
    "                                term=TERM,\n",
    "                               offset=n_results)\n",
    "## How many results total?\n",
    "total_results = results['total']\n",
    "## How many did we get the details for?\n",
    "results_per_page = len(results['businesses'])\n",
    "# Use math.ceil to round up for the total number of pages of results.\n",
    "n_pages = math.ceil((results['total']-n_results)/ results_per_page)\n",
    "n_pages\n",
    "\n"
   ]
  },
  {
   "cell_type": "code",
   "execution_count": 49,
   "id": "dadf092c",
   "metadata": {},
   "outputs": [
    {
     "data": {
      "application/vnd.jupyter.widget-view+json": {
       "model_id": "7facedfdd3f94c2881f62d80e7a2385c",
       "version_major": 2,
       "version_minor": 0
      },
      "text/plain": [
       "  0%|          | 0/265 [00:00<?, ?it/s]"
      ]
     },
     "metadata": {},
     "output_type": "display_data"
    },
    {
     "name": "stdout",
     "output_type": "stream",
     "text": [
      "Exceeded 1000 api calls. Stopping loop.\n"
     ]
    }
   ],
   "source": [
    "for i in tqdm_notebook( range(1,n_pages+1)):\n",
    "    \n",
    "    ## Read in results in progress file and check the length\n",
    "    with open(JSON_FILE, 'r') as f:\n",
    "        previous_results = json.load(f)\n",
    "    ## save number of results for to use as offset\n",
    "    n_results = len(previous_results)\n",
    "    \n",
    "    if (n_results + results_per_page) > 1000:\n",
    "        print('Exceeded 1000 api calls. Stopping loop.')\n",
    "        break\n",
    "    \n",
    "    ## use n_results as the OFFSET \n",
    "    results = yelp_api.search_query(location=LOCATION,\n",
    "                                    term=TERM, \n",
    "                                    offset=n_results)\n",
    "    \n",
    "    \n",
    "    \n",
    "    ## append new results and save to file\n",
    "    previous_results.extend(results['businesses'])\n",
    "    \n",
    "    # display(previous_results)\n",
    "    with open(JSON_FILE,'w') as f:\n",
    "        json.dump(previous_results,f)\n",
    "    \n",
    "    time.sleep(.2)\n",
    "\n"
   ]
  },
  {
   "cell_type": "code",
   "execution_count": 51,
   "id": "82a35b15",
   "metadata": {},
   "outputs": [
    {
     "data": {
      "text/html": [
       "<div>\n",
       "<style scoped>\n",
       "    .dataframe tbody tr th:only-of-type {\n",
       "        vertical-align: middle;\n",
       "    }\n",
       "\n",
       "    .dataframe tbody tr th {\n",
       "        vertical-align: top;\n",
       "    }\n",
       "\n",
       "    .dataframe thead th {\n",
       "        text-align: right;\n",
       "    }\n",
       "</style>\n",
       "<table border=\"1\" class=\"dataframe\">\n",
       "  <thead>\n",
       "    <tr style=\"text-align: right;\">\n",
       "      <th></th>\n",
       "      <th>id</th>\n",
       "      <th>alias</th>\n",
       "      <th>name</th>\n",
       "      <th>image_url</th>\n",
       "      <th>is_closed</th>\n",
       "      <th>url</th>\n",
       "      <th>review_count</th>\n",
       "      <th>categories</th>\n",
       "      <th>rating</th>\n",
       "      <th>coordinates</th>\n",
       "      <th>transactions</th>\n",
       "      <th>price</th>\n",
       "      <th>location</th>\n",
       "      <th>phone</th>\n",
       "      <th>display_phone</th>\n",
       "      <th>distance</th>\n",
       "    </tr>\n",
       "  </thead>\n",
       "  <tbody>\n",
       "    <tr>\n",
       "      <th>0</th>\n",
       "      <td>DXwSYgiXqIVNdO9dazel6w</td>\n",
       "      <td>pequods-pizzeria-chicago</td>\n",
       "      <td>Pequod's Pizzeria</td>\n",
       "      <td>https://s3-media1.fl.yelpcdn.com/bphoto/8QJUNb...</td>\n",
       "      <td>False</td>\n",
       "      <td>https://www.yelp.com/biz/pequods-pizzeria-chic...</td>\n",
       "      <td>7688</td>\n",
       "      <td>[{'alias': 'pizza', 'title': 'Pizza'}]</td>\n",
       "      <td>4.0</td>\n",
       "      <td>{'latitude': 41.92187, 'longitude': -87.664486}</td>\n",
       "      <td>[pickup, delivery]</td>\n",
       "      <td>$$</td>\n",
       "      <td>{'address1': '2207 N Clybourn Ave', 'address2'...</td>\n",
       "      <td>+17733271512</td>\n",
       "      <td>(773) 327-1512</td>\n",
       "      <td>2158.708458</td>\n",
       "    </tr>\n",
       "    <tr>\n",
       "      <th>1</th>\n",
       "      <td>8vFJH_paXsMocmEO_KAa3w</td>\n",
       "      <td>lou-malnatis-pizzeria-chicago</td>\n",
       "      <td>Lou Malnati's Pizzeria</td>\n",
       "      <td>https://s3-media1.fl.yelpcdn.com/bphoto/abCXuj...</td>\n",
       "      <td>False</td>\n",
       "      <td>https://www.yelp.com/biz/lou-malnatis-pizzeria...</td>\n",
       "      <td>7167</td>\n",
       "      <td>[{'alias': 'pizza', 'title': 'Pizza'}, {'alias...</td>\n",
       "      <td>4.0</td>\n",
       "      <td>{'latitude': 41.890357, 'longitude': -87.633704}</td>\n",
       "      <td>[pickup, delivery]</td>\n",
       "      <td>$$</td>\n",
       "      <td>{'address1': '439 N Wells St', 'address2': '',...</td>\n",
       "      <td>+13128289800</td>\n",
       "      <td>(312) 828-9800</td>\n",
       "      <td>4000.999053</td>\n",
       "    </tr>\n",
       "    <tr>\n",
       "      <th>2</th>\n",
       "      <td>Bxd9Y2PsdvIOGIKFQh53RQ</td>\n",
       "      <td>giordanos-chicago-30</td>\n",
       "      <td>Giordano's</td>\n",
       "      <td>https://s3-media1.fl.yelpcdn.com/bphoto/OKxuR9...</td>\n",
       "      <td>False</td>\n",
       "      <td>https://www.yelp.com/biz/giordanos-chicago-30?...</td>\n",
       "      <td>3584</td>\n",
       "      <td>[{'alias': 'pizza', 'title': 'Pizza'}, {'alias...</td>\n",
       "      <td>4.0</td>\n",
       "      <td>{'latitude': 41.88513231411071, 'longitude': -...</td>\n",
       "      <td>[delivery]</td>\n",
       "      <td>$$</td>\n",
       "      <td>{'address1': '130 E Randolph St', 'address2': ...</td>\n",
       "      <td>+13126161200</td>\n",
       "      <td>(312) 616-1200</td>\n",
       "      <td>4994.255603</td>\n",
       "    </tr>\n",
       "    <tr>\n",
       "      <th>3</th>\n",
       "      <td>Nza-kbPzUfFMZGyJz12sYg</td>\n",
       "      <td>the-stopalong-chicago</td>\n",
       "      <td>The StopAlong</td>\n",
       "      <td>https://s3-media2.fl.yelpcdn.com/bphoto/IzWXbV...</td>\n",
       "      <td>False</td>\n",
       "      <td>https://www.yelp.com/biz/the-stopalong-chicago...</td>\n",
       "      <td>319</td>\n",
       "      <td>[{'alias': 'pizza', 'title': 'Pizza'}, {'alias...</td>\n",
       "      <td>4.5</td>\n",
       "      <td>{'latitude': 41.91426, 'longitude': -87.68393}</td>\n",
       "      <td>[pickup, delivery]</td>\n",
       "      <td>$$</td>\n",
       "      <td>{'address1': '1812 N Milwaukee Ave', 'address2...</td>\n",
       "      <td>+17733944694</td>\n",
       "      <td>(773) 394-4694</td>\n",
       "      <td>1136.647564</td>\n",
       "    </tr>\n",
       "    <tr>\n",
       "      <th>4</th>\n",
       "      <td>wiNuegM8MNw9WIP0wfMmeA</td>\n",
       "      <td>coalfire-pizza-chicago</td>\n",
       "      <td>Coalfire Pizza</td>\n",
       "      <td>https://s3-media3.fl.yelpcdn.com/bphoto/VYA0aN...</td>\n",
       "      <td>False</td>\n",
       "      <td>https://www.yelp.com/biz/coalfire-pizza-chicag...</td>\n",
       "      <td>1200</td>\n",
       "      <td>[{'alias': 'pizza', 'title': 'Pizza'}]</td>\n",
       "      <td>4.5</td>\n",
       "      <td>{'latitude': 41.89075, 'longitude': -87.65988}</td>\n",
       "      <td>[delivery, pickup]</td>\n",
       "      <td>$$</td>\n",
       "      <td>{'address1': '1321 W Grand Ave', 'address2': '...</td>\n",
       "      <td>+13122262625</td>\n",
       "      <td>(312) 226-2625</td>\n",
       "      <td>2170.786489</td>\n",
       "    </tr>\n",
       "  </tbody>\n",
       "</table>\n",
       "</div>"
      ],
      "text/plain": [
       "                       id                          alias  \\\n",
       "0  DXwSYgiXqIVNdO9dazel6w       pequods-pizzeria-chicago   \n",
       "1  8vFJH_paXsMocmEO_KAa3w  lou-malnatis-pizzeria-chicago   \n",
       "2  Bxd9Y2PsdvIOGIKFQh53RQ           giordanos-chicago-30   \n",
       "3  Nza-kbPzUfFMZGyJz12sYg          the-stopalong-chicago   \n",
       "4  wiNuegM8MNw9WIP0wfMmeA         coalfire-pizza-chicago   \n",
       "\n",
       "                     name                                          image_url  \\\n",
       "0       Pequod's Pizzeria  https://s3-media1.fl.yelpcdn.com/bphoto/8QJUNb...   \n",
       "1  Lou Malnati's Pizzeria  https://s3-media1.fl.yelpcdn.com/bphoto/abCXuj...   \n",
       "2              Giordano's  https://s3-media1.fl.yelpcdn.com/bphoto/OKxuR9...   \n",
       "3           The StopAlong  https://s3-media2.fl.yelpcdn.com/bphoto/IzWXbV...   \n",
       "4          Coalfire Pizza  https://s3-media3.fl.yelpcdn.com/bphoto/VYA0aN...   \n",
       "\n",
       "   is_closed                                                url  review_count  \\\n",
       "0      False  https://www.yelp.com/biz/pequods-pizzeria-chic...          7688   \n",
       "1      False  https://www.yelp.com/biz/lou-malnatis-pizzeria...          7167   \n",
       "2      False  https://www.yelp.com/biz/giordanos-chicago-30?...          3584   \n",
       "3      False  https://www.yelp.com/biz/the-stopalong-chicago...           319   \n",
       "4      False  https://www.yelp.com/biz/coalfire-pizza-chicag...          1200   \n",
       "\n",
       "                                          categories  rating  \\\n",
       "0             [{'alias': 'pizza', 'title': 'Pizza'}]     4.0   \n",
       "1  [{'alias': 'pizza', 'title': 'Pizza'}, {'alias...     4.0   \n",
       "2  [{'alias': 'pizza', 'title': 'Pizza'}, {'alias...     4.0   \n",
       "3  [{'alias': 'pizza', 'title': 'Pizza'}, {'alias...     4.5   \n",
       "4             [{'alias': 'pizza', 'title': 'Pizza'}]     4.5   \n",
       "\n",
       "                                         coordinates        transactions  \\\n",
       "0    {'latitude': 41.92187, 'longitude': -87.664486}  [pickup, delivery]   \n",
       "1   {'latitude': 41.890357, 'longitude': -87.633704}  [pickup, delivery]   \n",
       "2  {'latitude': 41.88513231411071, 'longitude': -...          [delivery]   \n",
       "3     {'latitude': 41.91426, 'longitude': -87.68393}  [pickup, delivery]   \n",
       "4     {'latitude': 41.89075, 'longitude': -87.65988}  [delivery, pickup]   \n",
       "\n",
       "  price                                           location         phone  \\\n",
       "0    $$  {'address1': '2207 N Clybourn Ave', 'address2'...  +17733271512   \n",
       "1    $$  {'address1': '439 N Wells St', 'address2': '',...  +13128289800   \n",
       "2    $$  {'address1': '130 E Randolph St', 'address2': ...  +13126161200   \n",
       "3    $$  {'address1': '1812 N Milwaukee Ave', 'address2...  +17733944694   \n",
       "4    $$  {'address1': '1321 W Grand Ave', 'address2': '...  +13122262625   \n",
       "\n",
       "    display_phone     distance  \n",
       "0  (773) 327-1512  2158.708458  \n",
       "1  (312) 828-9800  4000.999053  \n",
       "2  (312) 616-1200  4994.255603  \n",
       "3  (773) 394-4694  1136.647564  \n",
       "4  (312) 226-2625  2170.786489  "
      ]
     },
     "metadata": {},
     "output_type": "display_data"
    },
    {
     "data": {
      "text/html": [
       "<div>\n",
       "<style scoped>\n",
       "    .dataframe tbody tr th:only-of-type {\n",
       "        vertical-align: middle;\n",
       "    }\n",
       "\n",
       "    .dataframe tbody tr th {\n",
       "        vertical-align: top;\n",
       "    }\n",
       "\n",
       "    .dataframe thead th {\n",
       "        text-align: right;\n",
       "    }\n",
       "</style>\n",
       "<table border=\"1\" class=\"dataframe\">\n",
       "  <thead>\n",
       "    <tr style=\"text-align: right;\">\n",
       "      <th></th>\n",
       "      <th>id</th>\n",
       "      <th>alias</th>\n",
       "      <th>name</th>\n",
       "      <th>image_url</th>\n",
       "      <th>is_closed</th>\n",
       "      <th>url</th>\n",
       "      <th>review_count</th>\n",
       "      <th>categories</th>\n",
       "      <th>rating</th>\n",
       "      <th>coordinates</th>\n",
       "      <th>transactions</th>\n",
       "      <th>price</th>\n",
       "      <th>location</th>\n",
       "      <th>phone</th>\n",
       "      <th>display_phone</th>\n",
       "      <th>distance</th>\n",
       "    </tr>\n",
       "  </thead>\n",
       "  <tbody>\n",
       "    <tr>\n",
       "      <th>995</th>\n",
       "      <td>D76HdXFjAqk1Xp05SXdBnA</td>\n",
       "      <td>beggars-pizza-oak-lawn</td>\n",
       "      <td>Beggars Pizza</td>\n",
       "      <td>https://s3-media1.fl.yelpcdn.com/bphoto/xfLdgy...</td>\n",
       "      <td>False</td>\n",
       "      <td>https://www.yelp.com/biz/beggars-pizza-oak-law...</td>\n",
       "      <td>71</td>\n",
       "      <td>[{'alias': 'pizza', 'title': 'Pizza'}, {'alias...</td>\n",
       "      <td>4.0</td>\n",
       "      <td>{'latitude': 41.70601, 'longitude': -87.7603}</td>\n",
       "      <td>[delivery]</td>\n",
       "      <td>$$</td>\n",
       "      <td>{'address1': '10240 Central Ave', 'address2': ...</td>\n",
       "      <td>+17084990505</td>\n",
       "      <td>(708) 499-0505</td>\n",
       "      <td>23176.966594</td>\n",
       "    </tr>\n",
       "    <tr>\n",
       "      <th>996</th>\n",
       "      <td>Lo4Pci2so6wUb9ZNp224Mg</td>\n",
       "      <td>navy-pier-beer-garden-chicago</td>\n",
       "      <td>Navy Pier Beer Garden</td>\n",
       "      <td>https://s3-media3.fl.yelpcdn.com/bphoto/OHKNT5...</td>\n",
       "      <td>False</td>\n",
       "      <td>https://www.yelp.com/biz/navy-pier-beer-garden...</td>\n",
       "      <td>69</td>\n",
       "      <td>[{'alias': 'bars', 'title': 'Bars'}, {'alias':...</td>\n",
       "      <td>3.5</td>\n",
       "      <td>{'latitude': 41.8916048731132, 'longitude': -8...</td>\n",
       "      <td>[]</td>\n",
       "      <td>$$</td>\n",
       "      <td>{'address1': '600 E Grand Ave', 'address2': ''...</td>\n",
       "      <td>+13125955439</td>\n",
       "      <td>(312) 595-5439</td>\n",
       "      <td>6545.414008</td>\n",
       "    </tr>\n",
       "    <tr>\n",
       "      <th>997</th>\n",
       "      <td>mIa3DWMFUU2KbCACC3OHHg</td>\n",
       "      <td>the-social-table-chicago-2</td>\n",
       "      <td>The Social Table</td>\n",
       "      <td>https://s3-media3.fl.yelpcdn.com/bphoto/JCESXo...</td>\n",
       "      <td>False</td>\n",
       "      <td>https://www.yelp.com/biz/the-social-table-chic...</td>\n",
       "      <td>65</td>\n",
       "      <td>[{'alias': 'cookingschools', 'title': 'Cooking...</td>\n",
       "      <td>5.0</td>\n",
       "      <td>{'latitude': 41.9179970776209, 'longitude': -8...</td>\n",
       "      <td>[]</td>\n",
       "      <td>$$</td>\n",
       "      <td>{'address1': '819 W Armitage Ave', 'address2':...</td>\n",
       "      <td>+17736974109</td>\n",
       "      <td>(773) 697-4109</td>\n",
       "      <td>2749.341629</td>\n",
       "    </tr>\n",
       "    <tr>\n",
       "      <th>998</th>\n",
       "      <td>j_2R7YinhgSamKA8-wjJkw</td>\n",
       "      <td>museum-campus-cafe-chicago</td>\n",
       "      <td>Museum Campus Cafe</td>\n",
       "      <td>https://s3-media2.fl.yelpcdn.com/bphoto/mG-99W...</td>\n",
       "      <td>False</td>\n",
       "      <td>https://www.yelp.com/biz/museum-campus-cafe-ch...</td>\n",
       "      <td>4</td>\n",
       "      <td>[{'alias': 'hotdog', 'title': 'Hot Dogs'}, {'a...</td>\n",
       "      <td>2.0</td>\n",
       "      <td>{'latitude': 41.8674408, 'longitude': -87.6191...</td>\n",
       "      <td>[]</td>\n",
       "      <td>$</td>\n",
       "      <td>{'address1': '1200 S Lake Shore Dr', 'address2...</td>\n",
       "      <td>+17736432077</td>\n",
       "      <td>(773) 643-2077</td>\n",
       "      <td>6788.463648</td>\n",
       "    </tr>\n",
       "    <tr>\n",
       "      <th>999</th>\n",
       "      <td>qaY5kcomlU0MT76034trhw</td>\n",
       "      <td>marianos-lakeshore-east-chicago</td>\n",
       "      <td>Mariano's - Lakeshore East</td>\n",
       "      <td>https://s3-media2.fl.yelpcdn.com/bphoto/NpOg_W...</td>\n",
       "      <td>False</td>\n",
       "      <td>https://www.yelp.com/biz/marianos-lakeshore-ea...</td>\n",
       "      <td>453</td>\n",
       "      <td>[{'alias': 'grocery', 'title': 'Grocery'}]</td>\n",
       "      <td>3.5</td>\n",
       "      <td>{'latitude': 41.885283, 'longitude': -87.618464}</td>\n",
       "      <td>[pickup, delivery]</td>\n",
       "      <td>$$</td>\n",
       "      <td>{'address1': '333 E Benton Place', 'address2':...</td>\n",
       "      <td>+13122281349</td>\n",
       "      <td>(312) 228-1349</td>\n",
       "      <td>5382.114252</td>\n",
       "    </tr>\n",
       "  </tbody>\n",
       "</table>\n",
       "</div>"
      ],
      "text/plain": [
       "                         id                            alias  \\\n",
       "995  D76HdXFjAqk1Xp05SXdBnA           beggars-pizza-oak-lawn   \n",
       "996  Lo4Pci2so6wUb9ZNp224Mg    navy-pier-beer-garden-chicago   \n",
       "997  mIa3DWMFUU2KbCACC3OHHg       the-social-table-chicago-2   \n",
       "998  j_2R7YinhgSamKA8-wjJkw       museum-campus-cafe-chicago   \n",
       "999  qaY5kcomlU0MT76034trhw  marianos-lakeshore-east-chicago   \n",
       "\n",
       "                           name  \\\n",
       "995               Beggars Pizza   \n",
       "996       Navy Pier Beer Garden   \n",
       "997            The Social Table   \n",
       "998          Museum Campus Cafe   \n",
       "999  Mariano's - Lakeshore East   \n",
       "\n",
       "                                             image_url  is_closed  \\\n",
       "995  https://s3-media1.fl.yelpcdn.com/bphoto/xfLdgy...      False   \n",
       "996  https://s3-media3.fl.yelpcdn.com/bphoto/OHKNT5...      False   \n",
       "997  https://s3-media3.fl.yelpcdn.com/bphoto/JCESXo...      False   \n",
       "998  https://s3-media2.fl.yelpcdn.com/bphoto/mG-99W...      False   \n",
       "999  https://s3-media2.fl.yelpcdn.com/bphoto/NpOg_W...      False   \n",
       "\n",
       "                                                   url  review_count  \\\n",
       "995  https://www.yelp.com/biz/beggars-pizza-oak-law...            71   \n",
       "996  https://www.yelp.com/biz/navy-pier-beer-garden...            69   \n",
       "997  https://www.yelp.com/biz/the-social-table-chic...            65   \n",
       "998  https://www.yelp.com/biz/museum-campus-cafe-ch...             4   \n",
       "999  https://www.yelp.com/biz/marianos-lakeshore-ea...           453   \n",
       "\n",
       "                                            categories  rating  \\\n",
       "995  [{'alias': 'pizza', 'title': 'Pizza'}, {'alias...     4.0   \n",
       "996  [{'alias': 'bars', 'title': 'Bars'}, {'alias':...     3.5   \n",
       "997  [{'alias': 'cookingschools', 'title': 'Cooking...     5.0   \n",
       "998  [{'alias': 'hotdog', 'title': 'Hot Dogs'}, {'a...     2.0   \n",
       "999         [{'alias': 'grocery', 'title': 'Grocery'}]     3.5   \n",
       "\n",
       "                                           coordinates        transactions  \\\n",
       "995      {'latitude': 41.70601, 'longitude': -87.7603}          [delivery]   \n",
       "996  {'latitude': 41.8916048731132, 'longitude': -8...                  []   \n",
       "997  {'latitude': 41.9179970776209, 'longitude': -8...                  []   \n",
       "998  {'latitude': 41.8674408, 'longitude': -87.6191...                  []   \n",
       "999   {'latitude': 41.885283, 'longitude': -87.618464}  [pickup, delivery]   \n",
       "\n",
       "    price                                           location         phone  \\\n",
       "995    $$  {'address1': '10240 Central Ave', 'address2': ...  +17084990505   \n",
       "996    $$  {'address1': '600 E Grand Ave', 'address2': ''...  +13125955439   \n",
       "997    $$  {'address1': '819 W Armitage Ave', 'address2':...  +17736974109   \n",
       "998     $  {'address1': '1200 S Lake Shore Dr', 'address2...  +17736432077   \n",
       "999    $$  {'address1': '333 E Benton Place', 'address2':...  +13122281349   \n",
       "\n",
       "      display_phone      distance  \n",
       "995  (708) 499-0505  23176.966594  \n",
       "996  (312) 595-5439   6545.414008  \n",
       "997  (773) 697-4109   2749.341629  \n",
       "998  (773) 643-2077   6788.463648  \n",
       "999  (312) 228-1349   5382.114252  "
      ]
     },
     "metadata": {},
     "output_type": "display_data"
    }
   ],
   "source": [
    "# load final results\n",
    "final_df = pd.read_json(JSON_FILE)\n",
    "display(final_df.head(5), final_df.tail(5))\n"
   ]
  }
 ],
 "metadata": {
  "kernelspec": {
   "display_name": "Python (dojo-env)",
   "language": "python",
   "name": "dojo-env"
  },
  "language_info": {
   "codemirror_mode": {
    "name": "ipython",
    "version": 3
   },
   "file_extension": ".py",
   "mimetype": "text/x-python",
   "name": "python",
   "nbconvert_exporter": "python",
   "pygments_lexer": "ipython3",
   "version": "3.11.4"
  },
  "toc": {
   "base_numbering": 1,
   "nav_menu": {},
   "number_sections": true,
   "sideBar": true,
   "skip_h1_title": false,
   "title_cell": "Table of Contents",
   "title_sidebar": "Contents",
   "toc_cell": false,
   "toc_position": {},
   "toc_section_display": true,
   "toc_window_display": false
  }
 },
 "nbformat": 4,
 "nbformat_minor": 5
}
